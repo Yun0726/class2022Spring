{
  "nbformat": 4,
  "nbformat_minor": 0,
  "metadata": {
    "colab": {
      "name": "function.ipynb의 사본의 사본",
      "provenance": [],
      "include_colab_link": true
    },
    "kernelspec": {
      "name": "python3",
      "display_name": "Python 3"
    }
  },
  "cells": [
    {
      "cell_type": "markdown",
      "metadata": {
        "id": "view-in-github",
        "colab_type": "text"
      },
      "source": [
        "<a href=\"https://colab.research.google.com/github/Yun0726/class2022Spring/blob/main/20220425.ipynb\" target=\"_parent\"><img src=\"https://colab.research.google.com/assets/colab-badge.svg\" alt=\"Open In Colab\"/></a>"
      ]
    },
    {
      "cell_type": "code",
      "source": [
        "Auto correlation\n",
        "the similarity between observations as a function of the time lag between them. \n",
        "signal processing에 자주 사용 for anylyzing functions or series of values ex) time domain signals\n",
        "The analysis of autocorrelation is a mathematical tool for finding repeating patterns\n",
        "ex) the presence of a periodic signal obscured by noise \n",
        "ex) identifying the missing fundamental frequency in a signal implied by its harmonic frequencies. \n",
        "\n"
      ],
      "metadata": {
        "id": "u6rWncP8fkWn"
      },
      "execution_count": null,
      "outputs": []
    },
    {
      "cell_type": "code",
      "source": [
        "Root mean square(RMS)\n",
        "a meaningful way of calculating the average of values over a period of time. \n",
        "With audio, the signal value (amplitude) is squared, averaged over a period of time, then the square root of the result is calculated."
      ],
      "metadata": {
        "id": "9mE0KdGMA3P7"
      },
      "execution_count": null,
      "outputs": []
    }
  ]
}