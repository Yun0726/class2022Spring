{
  "nbformat": 4,
  "nbformat_minor": 0,
  "metadata": {
    "colab": {
      "name": "huggingface_gradio.ipynb",
      "provenance": [],
      "include_colab_link": true
    },
    "kernelspec": {
      "name": "python3",
      "display_name": "Python 3"
    },
    "language_info": {
      "name": "python"
    }
  },
  "cells": [
    {
      "cell_type": "markdown",
      "metadata": {
        "id": "view-in-github",
        "colab_type": "text"
      },
      "source": [
        "<a href=\"https://colab.research.google.com/github/Yun0726/class2022Spring/blob/main/huggingface_gradio.ipynb\" target=\"_parent\"><img src=\"https://colab.research.google.com/assets/colab-badge.svg\" alt=\"Open In Colab\"/></a>"
      ]
    },
    {
      "cell_type": "code",
      "execution_count": null,
      "metadata": {
        "id": "F79rg8chJVI4"
      },
      "outputs": [],
      "source": [
        "!pip install gradio"
      ]
    },
    {
      "cell_type": "code",
      "source": [
        "import gradio as gr"
      ],
      "metadata": {
        "id": "ON3lfIXmJZTQ"
      },
      "execution_count": null,
      "outputs": []
    },
    {
      "cell_type": "code",
      "source": [
        "gr.Interface.load(\"huggingface/kresnik/wav2vec2-large-xlsr-korean\", inputs=\"mic\").launch()"
      ],
      "metadata": {
        "id": "sRB-Gl5VX_9W"
      },
      "execution_count": null,
      "outputs": []
    },
    {
      "cell_type": "code",
      "source": [
        "gr.Interface.load(\"huggingface/gpt2\").launch();"
      ],
      "metadata": {
        "id": "JhDyGqRZtFn4"
      },
      "execution_count": null,
      "outputs": []
    },
    {
      "cell_type": "code",
      "source": [
        "gr.Interface.load(\"huggingface/EleutherAI/gpt-j-6B\", inputs=gr.inputs.Textbox(lines=5, label=\"Input Text\")  # customizes the input component\n",
        ").launch()"
      ],
      "metadata": {
        "id": "NfpetIo-tI0B"
      },
      "execution_count": null,
      "outputs": []
    },
    {
      "cell_type": "code",
      "source": [
        "!pip install transformers"
      ],
      "metadata": {
        "id": "h36uKHwsqmBD"
      },
      "execution_count": null,
      "outputs": []
    },
    {
      "cell_type": "code",
      "source": [
        "from transformers import pipeline\n",
        "classifier = pipeline(\"sentiment-analysis\")\n",
        "def func(utterance):\n",
        "  return classifier(utterance)\n",
        "gr.Interface(fn=func, inputs=\"text\", outputs=\"text\").launch()"
      ],
      "metadata": {
        "id": "pcsdUAnqPqB_"
      },
      "execution_count": null,
      "outputs": []
    },
    {
      "cell_type": "code",
      "source": [
        "gr.Interface.load(\"huggingface/siebert/sentiment-roberta-large-english\").launch()"
      ],
      "metadata": {
        "id": "awR6YWyguFLe"
      },
      "execution_count": null,
      "outputs": []
    },
    {
      "cell_type": "code",
      "source": [
        "gr.Interface.load(\"spaces/eugenesiow/remove-bg\", inputs=\"webcam\", title=\"Remove your webcam background!\").launch()"
      ],
      "metadata": {
        "id": "tXJ7_hJ3dKxe"
      },
      "execution_count": null,
      "outputs": []
    },
    {
      "cell_type": "code",
      "source": [
        "gr.Interface.load(\n",
        "             \"huggingface/google/vit-base-patch16-224\",\n",
        "             examples=[\"alligator.jpg\", \"laptop.jpg\"]).launch()"
      ],
      "metadata": {
        "id": "XJqg98LauNMq"
      },
      "execution_count": null,
      "outputs": []
    },
    {
      "cell_type": "code",
      "source": [
        "gr.Interface(fn=classify_image, inputs=image, outputs=label, interpretation=\"shap\", num_shap=5).launch()\n"
      ],
      "metadata": {
        "id": "DWU7B3IevIbw"
      },
      "execution_count": null,
      "outputs": []
    },
    {
      "cell_type": "code",
      "source": [
        "gr.Interface.load(\"huggingface/TalTechNLP/voxlingua107-epaca-tdnn\").launch()"
      ],
      "metadata": {
        "id": "ThO1UKLkySlx"
      },
      "execution_count": null,
      "outputs": []
    }
  ]
}