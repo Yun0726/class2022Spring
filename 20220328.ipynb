{
  "nbformat": 4,
  "nbformat_minor": 0,
  "metadata": {
    "colab": {
      "name": "20220328.ipynb",
      "provenance": [],
      "include_colab_link": true
    },
    "kernelspec": {
      "name": "python3",
      "display_name": "Python 3"
    },
    "language_info": {
      "name": "python"
    }
  },
  "cells": [
    {
      "cell_type": "markdown",
      "metadata": {
        "id": "view-in-github",
        "colab_type": "text"
      },
      "source": [
        "<a href=\"https://colab.research.google.com/github/Yun0726/class2022Spring/blob/main/20220328.ipynb\" target=\"_parent\"><img src=\"https://colab.research.google.com/assets/colab-badge.svg\" alt=\"Open In Colab\"/></a>"
      ]
    },
    {
      "cell_type": "code",
      "source": [
        "!pip install gradio\n",
        "import gradio as gr\n",
        "import requests\n",
        "import pandas as pd"
      ],
      "metadata": {
        "id": "8eZHGJhmqd9a"
      },
      "execution_count": null,
      "outputs": []
    },
    {
      "cell_type": "code",
      "source": [
        "URL = ('http://apis.data.go.kr/B551172/Liver04/'\n",
        "       'lvAlchbyType?'\n",
        "       'serviceKey=GxI4QONOYC2%2BryiNI31v1zxJlRtkyv16Osw0hJJhflxFcPWE7k4DKD%2B5hZA4iJhOQVlSUNQmzORPw54dgpnH7A%3D%3D'\n",
        "       '&type=json'\n",
        "       '&pageNo=1'\n",
        "       '&numOfRows=100'\n",
        "       '&centerNm=국립암센터'\n",
        "       '&fromYear=2010'\n",
        "       '&toYear=2020')\n",
        "response = requests.get(URL)"
      ],
      "metadata": {
        "id": "lHHEwqpyJF7r"
      },
      "execution_count": 2,
      "outputs": []
    },
    {
      "cell_type": "markdown",
      "source": [
        "#### http://jsonviewer.stack.hu/ (copy json here to view json)"
      ],
      "metadata": {
        "id": "faIENRyFfnY1"
      }
    },
    {
      "cell_type": "code",
      "source": [
        "r = response.json()\n",
        "r"
      ],
      "metadata": {
        "id": "v_4CKNAv7g60"
      },
      "execution_count": null,
      "outputs": []
    },
    {
      "cell_type": "code",
      "source": [
        "items = r['response']['items']['item']"
      ],
      "metadata": {
        "id": "YkI4cadUdhLV"
      },
      "execution_count": 4,
      "outputs": []
    },
    {
      "cell_type": "code",
      "source": [
        "\n",
        "ptAge = [a['ptAge'] for a in items]\n",
        "ptSexCd = [a['ptSexCd'] for a in items]\n",
        "ptCntNmvl = [a['ptCntNmvl'] for a in items]\n",
        "\n",
        "ptAge = pd.Series(ptAge)\n",
        "ptSexCd = pd.Series(ptSexCd)   \n",
        "ptCntNmvl = pd.Series(ptCntNmvl)\n",
        "\n",
        "df = pd.DataFrame({'나이':ptAge,'성별':ptSexCd,'건수':ptCntNmvl})\n",
        "df"
      ],
      "metadata": {
        "id": "W8lA0-IzE55W"
      },
      "execution_count": null,
      "outputs": []
    },
    {
      "cell_type": "code",
      "source": [
        "def test():\n",
        "  URL = ('http://apis.data.go.kr/B551172/Liver04/'\n",
        "       'lvAlchbyType?'\n",
        "       'serviceKey=GxI4QONOYC2%2BryiNI31v1zxJlRtkyv16Osw0hJJhflxFcPWE7k4DKD%2B5hZA4iJhOQVlSUNQmzORPw54dgpnH7A%3D%3D'\n",
        "       '&type=json'\n",
        "       '&pageNo=1'\n",
        "       '&numOfRows=100'\n",
        "       '&centerNm=국립암센터'\n",
        "       '&fromYear=2010'\n",
        "       '&toYear=2020')\n",
        "  \n",
        "  response = requests.get(URL)\n",
        "  r = response.json()\n",
        "  items = r['response']['items']['item']\n",
        "\n",
        "  ptAge = [a['ptAge'] for a in items]\n",
        "  ptSexCd = [a['ptSexCd'] for a in items]\n",
        "  ptCntNmvl = [a['ptCntNmvl'] for a in items]\n",
        "\n",
        "  ptAge = pd.Series(ptAge)\n",
        "  ptSexCd = pd.Series(ptSexCd)   \n",
        "  ptCntNmvl = pd.Series(ptCntNmvl)\n",
        "\n",
        "  df = pd.DataFrame({'나이':ptAge,'성별':ptSexCd,'건수':ptCntNmvl})\n",
        "  return df"
      ],
      "metadata": {
        "id": "P5MYCpOY3R0H"
      },
      "execution_count": 7,
      "outputs": []
    },
    {
      "cell_type": "code",
      "source": [
        "iface = gr.Interface(test, inputs= [], outputs=['dataframe'])\n",
        "iface.launch(debug=True)"
      ],
      "metadata": {
        "id": "kxORJVPOnDSP",
        "outputId": "c1088b1d-bb7c-42c9-8e08-48608008d615",
        "colab": {
          "base_uri": "https://localhost:8080/",
          "height": 595
        }
      },
      "execution_count": null,
      "outputs": [
        {
          "output_type": "stream",
          "name": "stdout",
          "text": [
            "Colab notebook detected. This cell will run indefinitely so that you can see errors and logs. To turn off, set debug=False in launch().\n",
            "Running on public URL: https://12510.gradio.app\n",
            "\n",
            "This share link expires in 72 hours. For free permanent hosting, check out Spaces (https://huggingface.co/spaces)\n"
          ]
        },
        {
          "output_type": "display_data",
          "data": {
            "text/plain": [
              "<IPython.lib.display.IFrame at 0x7f061c67ac50>"
            ],
            "text/html": [
              "\n",
              "        <iframe\n",
              "            width=\"900\"\n",
              "            height=\"500\"\n",
              "            src=\"https://12510.gradio.app\"\n",
              "            frameborder=\"0\"\n",
              "            allowfullscreen\n",
              "        ></iframe>\n",
              "        "
            ]
          },
          "metadata": {}
        }
      ]
    }
  ]
}