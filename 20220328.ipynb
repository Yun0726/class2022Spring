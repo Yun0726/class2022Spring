{
  "nbformat": 4,
  "nbformat_minor": 0,
  "metadata": {
    "colab": {
      "name": "20220328.ipynb",
      "provenance": [],
      "include_colab_link": true
    },
    "kernelspec": {
      "name": "python3",
      "display_name": "Python 3"
    },
    "language_info": {
      "name": "python"
    }
  },
  "cells": [
    {
      "cell_type": "markdown",
      "metadata": {
        "id": "view-in-github",
        "colab_type": "text"
      },
      "source": [
        "<a href=\"https://colab.research.google.com/github/Yun0726/class2022Spring/blob/main/20220328.ipynb\" target=\"_parent\"><img src=\"https://colab.research.google.com/assets/colab-badge.svg\" alt=\"Open In Colab\"/></a>"
      ]
    },
    {
      "cell_type": "code",
      "source": [
        "!pip install gradio\n",
        "import gradio as gr\n",
        "import requests\n",
        "import pandas as pd"
      ],
      "metadata": {
        "id": "8eZHGJhmqd9a"
      },
      "execution_count": null,
      "outputs": []
    },
    {
      "cell_type": "code",
      "source": [
        "URL = ('http://apis.data.go.kr/B553766/smt-schedule/'\n",
        "       'schedule?'\n",
        "       'serviceKey=GxI4QONOYC2%2BryiNI31v1zxJlRtkyv16Osw0hJJhflxFcPWE7k4DKD%2B5hZA4iJhOQVlSUNQmzORPw54dgpnH7A%3D%3D'\n",
        "        '&numOfRows=100'\n",
        "        '&pageNo=1'\n",
        "        '&stationCode=0222'\n",
        "        '&week=DAY'\n",
        "        '&trainDirection=IN')\n",
        "response = requests.get(URL)"
      ],
      "metadata": {
        "id": "lHHEwqpyJF7r"
      },
      "execution_count": 176,
      "outputs": []
    },
    {
      "cell_type": "code",
      "source": [
        "response"
      ],
      "metadata": {
        "colab": {
          "base_uri": "https://localhost:8080/"
        },
        "id": "6w6BXv79GiMn",
        "outputId": "6fc0c594-d1db-4112-a2b7-15cf85bce5c0"
      },
      "execution_count": 202,
      "outputs": [
        {
          "output_type": "execute_result",
          "data": {
            "text/plain": [
              "<Response [200]>"
            ]
          },
          "metadata": {},
          "execution_count": 202
        }
      ]
    },
    {
      "cell_type": "markdown",
      "source": [
        "#### http://jsonviewer.stack.hu/ (copy json here to view json)"
      ],
      "metadata": {
        "id": "faIENRyFfnY1"
      }
    },
    {
      "cell_type": "code",
      "source": [
        "r = response.json()\n",
        "r"
      ],
      "metadata": {
        "id": "JcLKwg0foR9p"
      },
      "execution_count": null,
      "outputs": []
    },
    {
      "cell_type": "code",
      "source": [
        "folder = r['data']\n",
        "folder"
      ],
      "metadata": {
        "id": "dY2lYuzEKoBq"
      },
      "execution_count": null,
      "outputs": []
    },
    {
      "cell_type": "code",
      "source": [
        "def test(station_code) :\n",
        "  URL = ('http://apis.data.go.kr/B553766/smt-schedule/'\n",
        "       'schedule?'\n",
        "       'serviceKey=GxI4QONOYC2%2BryiNI31v1zxJlRtkyv16Osw0hJJhflxFcPWE7k4DKD%2B5hZA4iJhOQVlSUNQmzORPw54dgpnH7A%3D%3D'\n",
        "        '&numOfRows=1000'\n",
        "        '&pageNo=1'\n",
        "        '&stationCode='+station_code+\n",
        "        '&week=DAY'\n",
        "        '&trainDirection=IN')\n",
        "\n",
        "response = requests.get(URL)\n",
        "r = response.json()\n",
        "folder = r['data']\n",
        "\n",
        "station_line = [item['station_line'] for item in folder]\n",
        "station_name = [item['station_name'] for item in folder]\n",
        "train_arrtime = [item['train_arrtime'] for item in folder]\n",
        "train_code = [item['train_code'] for item in folder]\n",
        "train_departure = [item['train_departure'] for item in folder]\n",
        "train_deptime = [item['train_deptime'] for item in folder]\n",
        "train_destination = [item['train_deptime'] for item in folder]\n",
        "\n",
        "station_line = pd.Series(station_line)   \n",
        "station_name = pd.Series(station_name)\n",
        "train_arrtime = pd.Series(train_arrtime )\n",
        "train_code = pd.Series(train_code)\n",
        "train_departure = pd.Series(train_departure)\n",
        "train_deptime = pd.Series(train_deptime)\n",
        "train_destination = pd.Series(train_destination)\n",
        "\n",
        "df = pd.DataFrame({'station_line': station_line, 'station_name': station_name, 'train_arrtime': train_arrtime, 'train_code': train_code, 'train_departure': train_departure, 'train_deptime':train_deptime, 'train_destination' : train_destination })\n",
        "  return df"
      ],
      "metadata": {
        "id": "W8lA0-IzE55W",
        "colab": {
          "base_uri": "https://localhost:8080/",
          "height": 139
        },
        "outputId": "bededb84-00e0-4043-cfb5-9e768b77a60e"
      },
      "execution_count": 206,
      "outputs": [
        {
          "output_type": "error",
          "ename": "SyntaxError",
          "evalue": "ignored",
          "traceback": [
            "\u001b[0;36m  File \u001b[0;32m\"<ipython-input-206-e747f6d8f6af>\"\u001b[0;36m, line \u001b[0;32m33\u001b[0m\n\u001b[0;31m    return df\u001b[0m\n\u001b[0m    ^\u001b[0m\n\u001b[0;31mSyntaxError\u001b[0m\u001b[0;31m:\u001b[0m 'return' outside function\n"
          ]
        }
      ]
    },
    {
      "cell_type": "markdown",
      "source": [
        ""
      ],
      "metadata": {
        "id": "ygeI6S_NhxHd"
      }
    },
    {
      "cell_type": "markdown",
      "source": [
        ""
      ],
      "metadata": {
        "id": "JfvWBqAnhNva"
      }
    },
    {
      "cell_type": "code",
      "source": [
        "def test(sidoName):\n",
        "  URL = ('http://apis.data.go.kr/B552584/ArpltnStatsSvc/'\n",
        "      'getCtprvnMesureSidoLIst?'\n",
        "      'sidoName='+sidoName+\n",
        "      '&searchCondition=hour'\n",
        "      '&pageNo=1'\n",
        "      '&numOfRows=100'\n",
        "      '&returnType=json'\n",
        "      '&serviceKey=miH%2BZXg85lQy4%2FkmhffvygXDIFiTwisriSLxtyECSzw6hxTVK7yI8QKIOc7mP7LEqCnhBGuj6iW1gZW65dum7A%3D%3D')\n",
        "  \n",
        "  response = requests.get(URL)\n",
        "  r = response.json()\n",
        "  items = r['response']['body']['items']\n",
        "\n",
        "  cityName = [item['cityName'] for item in items]\n",
        "  pm10Value = [item['pm10Value'] for item in items]\n",
        "  pm25Value = [item['pm25Value'] for item in items]\n",
        "  so2Value = [item['so2Value'] for item in items]\n",
        "  coValue = [item['coValue'] for item in items]\n",
        "  o3Value = [item['o3Value'] for item in items]\n",
        "  no2Value = [item['no2Value'] for item in items]\n",
        "\n",
        "  cityName = pd.Series(cityName)\n",
        "  pm10Value = pd.Series(pm10Value)   \n",
        "  pm25Value = pd.Series(pm25Value)\n",
        "  so2Value = pd.Series(so2Value)\n",
        "  coValue = pd.Series(coValue)\n",
        "  o3Value = pd.Series(o3Value)\n",
        "  no2Value = pd.Series(no2Value)\n",
        "\n",
        "  df = pd.DataFrame({ 'cityName': cityName, 'pm10Value': pm10Value, 'pm25Value': pm25Value, 'so2Value': so2Value, 'coValue': coValue, 'o3Value': o3Value, 'no2Value': no2Value})\n",
        "  return df"
      ],
      "metadata": {
        "id": "xa2Gb_qsm_G5"
      },
      "execution_count": null,
      "outputs": []
    },
    {
      "cell_type": "code",
      "source": [
        "iface = gr.Interface(test, gr.inputs.Dropdown(['서울', '부산', '대구', '인천', '광주', '대전', '울산', '경기', '강원', '충북', '충남', '전북', '전남', '경북', '경남', '제주', '세종']), outputs=['dataframe'])\n",
        "iface.launch(debug=True)"
      ],
      "metadata": {
        "id": "kxORJVPOnDSP",
        "outputId": "f394f8de-539c-4e16-db4b-1bd253f38645",
        "colab": {
          "base_uri": "https://localhost:8080/",
          "height": 591
        }
      },
      "execution_count": null,
      "outputs": [
        {
          "output_type": "stream",
          "name": "stdout",
          "text": [
            "Colab notebook detected. This cell will run indefinitely so that you can see errors and logs. To turn off, set debug=False in launch().\n",
            "Running on public URL: https://14609.gradio.app\n",
            "\n",
            "This share link expires in 72 hours. For free permanent hosting, check out Spaces (https://huggingface.co/spaces)\n"
          ]
        },
        {
          "output_type": "display_data",
          "data": {
            "text/plain": [
              "<IPython.lib.display.IFrame at 0x7f7106ad3ed0>"
            ],
            "text/html": [
              "\n",
              "        <iframe\n",
              "            width=\"900\"\n",
              "            height=\"500\"\n",
              "            src=\"https://14609.gradio.app\"\n",
              "            frameborder=\"0\"\n",
              "            allowfullscreen\n",
              "        ></iframe>\n",
              "        "
            ]
          },
          "metadata": {}
        }
      ]
    }
  ]
}