{
  "nbformat": 4,
  "nbformat_minor": 0,
  "metadata": {
    "colab": {
      "name": "20220316.ipynb",
      "provenance": [],
      "authorship_tag": "ABX9TyN+dvGuvgtiZ60rBQWK56VE",
      "include_colab_link": true
    },
    "kernelspec": {
      "name": "python3",
      "display_name": "Python 3"
    },
    "language_info": {
      "name": "python"
    }
  },
  "cells": [
    {
      "cell_type": "markdown",
      "metadata": {
        "id": "view-in-github",
        "colab_type": "text"
      },
      "source": [
        "<a href=\"https://colab.research.google.com/github/Yun0726/class2022Spring/blob/main/20220316.ipynb\" target=\"_parent\"><img src=\"https://colab.research.google.com/assets/colab-badge.svg\" alt=\"Open In Colab\"/></a>"
      ]
    },
    {
      "cell_type": "code",
      "execution_count": null,
      "metadata": {
        "colab": {
          "base_uri": "https://localhost:8080/"
        },
        "id": "hzCS9buYrb6p",
        "outputId": "a59b824b-afd9-4868-e414-fe8bbc4426ac"
      },
      "outputs": [
        {
          "output_type": "stream",
          "name": "stdout",
          "text": [
            "<class 'str'>\n",
            "<class 'float'>\n"
          ]
        }
      ],
      "source": [
        "a='530' ; print(type(a))\n",
        "a= 1.0 ; print(type(a))"
      ]
    },
    {
      "cell_type": "code",
      "source": [
        "a='himart' ; print(a[4])\n",
        "c=[1,'tub','git',[345,'감자']] ; print(type(c))\n",
        "c[3][1]"
      ],
      "metadata": {
        "colab": {
          "base_uri": "https://localhost:8080/",
          "height": 73
        },
        "id": "1zp3bHc3rmq8",
        "outputId": "2e0a6d72-5a4b-4787-be33-15868efe3254"
      },
      "execution_count": null,
      "outputs": [
        {
          "output_type": "stream",
          "name": "stdout",
          "text": [
            "r\n",
            "<class 'list'>\n"
          ]
        },
        {
          "output_type": "execute_result",
          "data": {
            "text/plain": [
              "'감자'"
            ],
            "application/vnd.google.colaboratory.intrinsic+json": {
              "type": "string"
            }
          },
          "metadata": {},
          "execution_count": 23
        }
      ]
    },
    {
      "cell_type": "code",
      "source": [
        "a = [1,'a', [3, '4']]; print(type(a)); print(a[-1]); print(a[-3]); print(a[2]); print(a[2][1])"
      ],
      "metadata": {
        "colab": {
          "base_uri": "https://localhost:8080/"
        },
        "id": "GwLp72oXsCya",
        "outputId": "a4a7dedb-a31b-42f1-e263-a64811a35c3c"
      },
      "execution_count": null,
      "outputs": [
        {
          "output_type": "stream",
          "name": "stdout",
          "text": [
            "<class 'list'>\n",
            "[3, '4']\n",
            "1\n",
            "[3, '4']\n",
            "4\n"
          ]
        }
      ]
    },
    {
      "cell_type": "code",
      "source": [
        "a =\t{'347': \"사과\", \"257\": '오렌지', '319': 2015}\n",
        "print(type(a))\n",
        "print(a['319'])"
      ],
      "metadata": {
        "colab": {
          "base_uri": "https://localhost:8080/"
        },
        "id": "J4OeV1-lsCN_",
        "outputId": "479ff3e2-116c-450d-ecd1-4136464b9ca6"
      },
      "execution_count": null,
      "outputs": [
        {
          "output_type": "stream",
          "name": "stdout",
          "text": [
            "<class 'dict'>\n",
            "2015\n"
          ]
        }
      ]
    },
    {
      "cell_type": "code",
      "source": [
        "p = '34534'\n",
        "print(p[3], p[4], p[-1], p[-5])\n",
        "print(p[1:3], p[1:], p[:3], p[:])"
      ],
      "metadata": {
        "colab": {
          "base_uri": "https://localhost:8080/"
        },
        "id": "Q0S0vcUIsX06",
        "outputId": "e66e15f0-5458-4103-9fd7-bb1e44388821"
      },
      "execution_count": null,
      "outputs": [
        {
          "output_type": "stream",
          "name": "stdout",
          "text": [
            "3 4 4 3\n",
            "45 4534 345 34534\n"
          ]
        }
      ]
    },
    {
      "cell_type": "code",
      "source": [
        "n = [3587, 14320, 'be']\n",
        "print(n[2], n[1], n[-1], n[-3])\n",
        "print(n[1:2], n[1:], n[:2], n[:])\n",
        "n[0]*n[1]"
      ],
      "metadata": {
        "colab": {
          "base_uri": "https://localhost:8080/"
        },
        "id": "J1uI1LEGsXrS",
        "outputId": "2260584b-aa00-400b-b01b-e96bf33fa2f5"
      },
      "execution_count": null,
      "outputs": [
        {
          "output_type": "stream",
          "name": "stdout",
          "text": [
            "be 14320 be 3587\n",
            "[14320] [14320, 'be'] [3587, 14320] [3587, 14320, 'be']\n"
          ]
        },
        {
          "output_type": "execute_result",
          "data": {
            "text/plain": [
              "51365840"
            ]
          },
          "metadata": {},
          "execution_count": 45
        }
      ]
    },
    {
      "cell_type": "code",
      "source": [
        "a.upper()"
      ],
      "metadata": {
        "colab": {
          "base_uri": "https://localhost:8080/",
          "height": 36
        },
        "id": "SyWNt6gIsXgO",
        "outputId": "06d6f41b-40b0-4ccd-e188-cd4910c17861"
      },
      "execution_count": null,
      "outputs": [
        {
          "output_type": "execute_result",
          "data": {
            "text/plain": [
              "'HIMART'"
            ],
            "application/vnd.google.colaboratory.intrinsic+json": {
              "type": "string"
            }
          },
          "metadata": {},
          "execution_count": 32
        }
      ]
    },
    {
      "cell_type": "code",
      "source": [
        "s = ' this is a house built this year.n'\n",
        "result = s.find('house')\n",
        "result"
      ],
      "metadata": {
        "colab": {
          "base_uri": "https://localhost:8080/"
        },
        "id": "0ixM7iKfuAPz",
        "outputId": "5bc6eb0d-95dd-4853-9835-4897f11950ed"
      },
      "execution_count": null,
      "outputs": [
        {
          "output_type": "execute_result",
          "data": {
            "text/plain": [
              "11"
            ]
          },
          "metadata": {},
          "execution_count": 51
        }
      ]
    },
    {
      "cell_type": "code",
      "source": [
        "s = s.strip()      \t       \n",
        "s"
      ],
      "metadata": {
        "colab": {
          "base_uri": "https://localhost:8080/",
          "height": 36
        },
        "id": "u2M_cheRuzo7",
        "outputId": "babb5958-d7d9-4fdf-9b9a-3d1606005caf"
      },
      "execution_count": null,
      "outputs": [
        {
          "output_type": "execute_result",
          "data": {
            "text/plain": [
              "'this is a house built this year.n'"
            ],
            "application/vnd.google.colaboratory.intrinsic+json": {
              "type": "string"
            }
          },
          "metadata": {},
          "execution_count": 52
        }
      ]
    },
    {
      "cell_type": "code",
      "source": [
        "bunch = s.split(' ')\t      \n",
        "bunch"
      ],
      "metadata": {
        "colab": {
          "base_uri": "https://localhost:8080/"
        },
        "id": "BABE9W9juzZK",
        "outputId": "34a42493-928d-4f6a-a164-7686582f2450"
      },
      "execution_count": null,
      "outputs": [
        {
          "output_type": "execute_result",
          "data": {
            "text/plain": [
              "['this', 'is', 'a', 'house', 'built', 'this', 'year.n']"
            ]
          },
          "metadata": {},
          "execution_count": 55
        }
      ]
    },
    {
      "cell_type": "code",
      "source": [
        "py = ' '.join(bunch)\t    \n",
        "py"
      ],
      "metadata": {
        "colab": {
          "base_uri": "https://localhost:8080/",
          "height": 36
        },
        "id": "18kKDrVVu2ln",
        "outputId": "030723c5-821b-4639-ffdc-35f2fafc3b9e"
      },
      "execution_count": null,
      "outputs": [
        {
          "output_type": "execute_result",
          "data": {
            "text/plain": [
              "'this is a house built this year.n'"
            ],
            "application/vnd.google.colaboratory.intrinsic+json": {
              "type": "string"
            }
          },
          "metadata": {},
          "execution_count": 56
        }
      ]
    },
    {
      "cell_type": "code",
      "source": [
        "s = py.replace('this', 'those')\n",
        "s"
      ],
      "metadata": {
        "colab": {
          "base_uri": "https://localhost:8080/",
          "height": 36
        },
        "id": "m_5hHTlRu4ET",
        "outputId": "04aba12b-880d-481a-db1f-6590a98ed20c"
      },
      "execution_count": null,
      "outputs": [
        {
          "output_type": "execute_result",
          "data": {
            "text/plain": [
              "'those is a house built those year.n'"
            ],
            "application/vnd.google.colaboratory.intrinsic+json": {
              "type": "string"
            }
          },
          "metadata": {},
          "execution_count": 57
        }
      ]
    },
    {
      "cell_type": "code",
      "source": [
        "def multiply(a,b):\n",
        "  return a*b\n",
        "\n",
        "def multi(a,b):\n",
        "  d=a*b\n",
        "  return d\n",
        "\n",
        "def multipi(a,b,c,d):\n",
        "  e=a*b*c*d\n",
        "  return e\n",
        "\n",
        "def subtract(a,b):\n",
        "  return a-b"
      ],
      "metadata": {
        "id": "nCRPYy64zuB1"
      },
      "execution_count": null,
      "outputs": []
    },
    {
      "cell_type": "code",
      "source": [
        "c = multi(45,3); print(c)\n",
        "b = subtract(1,5); print(b)\n",
        "eg = multipi(1,4,2,3); print(eg)\n",
        "c = divide(1,2); print(c)"
      ],
      "metadata": {
        "id": "E1atliM0zt72",
        "outputId": "765e39d1-8c59-4374-ac42-58d68379562b",
        "colab": {
          "base_uri": "https://localhost:8080/"
        }
      },
      "execution_count": null,
      "outputs": [
        {
          "output_type": "stream",
          "name": "stdout",
          "text": [
            "135\n",
            "-4\n",
            "24\n",
            "0.5\n"
          ]
        }
      ]
    },
    {
      "cell_type": "code",
      "source": [
        "a = [1, 2, 3, 4, 5,'6508']\n",
        "for i in a:\n",
        "    print(i)"
      ],
      "metadata": {
        "id": "THegs9WRzt1_"
      },
      "execution_count": null,
      "outputs": []
    },
    {
      "cell_type": "code",
      "source": [
        "a = [1, 2, 3, 4,700,350]\n",
        "for b in range(len(a)):\n",
        "    print(b)\n",
        "\n",
        "py=['sweet potato','strawberry','chocolate']\n",
        "for c in range(len(py)):\n",
        "    print(py)"
      ],
      "metadata": {
        "id": "Q0iR9KvWztYt",
        "outputId": "e479868f-e665-4e4c-d4f6-93db9426d22c",
        "colab": {
          "base_uri": "https://localhost:8080/"
        }
      },
      "execution_count": null,
      "outputs": [
        {
          "output_type": "stream",
          "name": "stdout",
          "text": [
            "0\n",
            "1\n",
            "2\n",
            "3\n",
            "4\n",
            "5\n",
            "['sweet potato', 'strawberry', 'chocolate']\n",
            "['sweet potato', 'strawberry', 'chocolate']\n",
            "['sweet potato', 'strawberry', 'chocolate']\n"
          ]
        }
      ]
    },
    {
      "cell_type": "code",
      "source": [
        "a = ['red', 'green', 'blue', 'purple']\n",
        "for i in a:\n",
        "    print(a)\n",
        "\n",
        "a = ['red', 'green', 'blue', 'purple']\n",
        "for i in range(len(a)):\n",
        "    print(a[i])"
      ],
      "metadata": {
        "id": "TaUDQqz2z6J_",
        "outputId": "a21cdf34-e4cf-44a3-d45c-f5e926b2a2ae",
        "colab": {
          "base_uri": "https://localhost:8080/"
        }
      },
      "execution_count": null,
      "outputs": [
        {
          "output_type": "stream",
          "name": "stdout",
          "text": [
            "['red', 'green', 'blue', 'purple']\n",
            "['red', 'green', 'blue', 'purple']\n",
            "['red', 'green', 'blue', 'purple']\n",
            "['red', 'green', 'blue', 'purple']\n",
            "red\n",
            "green\n",
            "blue\n",
            "purple\n"
          ]
        }
      ]
    },
    {
      "cell_type": "code",
      "source": [
        "a = 500\n",
        "if a == 500:\n",
        "    print('저렴')\n",
        "else:\n",
        "    print('비쌈')"
      ],
      "metadata": {
        "id": "DQyh0VuUz-hY",
        "outputId": "ee176979-def1-4d20-8df6-aa011d6709fc",
        "colab": {
          "base_uri": "https://localhost:8080/"
        }
      },
      "execution_count": null,
      "outputs": [
        {
          "output_type": "stream",
          "name": "stdout",
          "text": [
            "저렴\n"
          ]
        }
      ]
    },
    {
      "cell_type": "code",
      "source": [
        "for i in range(1, 5):\n",
        "    for j in range(2, 4):\n",
        "      for z in range(3,5):\n",
        "        print(i*j*z)"
      ],
      "metadata": {
        "id": "xpcJw7SD0Ae-"
      },
      "execution_count": null,
      "outputs": []
    },
    {
      "cell_type": "code",
      "source": [
        "for i in range(1, 3):\n",
        "    for j in range(3, 5):\n",
        "        if j >5:\n",
        "            print(i*j)"
      ],
      "metadata": {
        "id": "vk4mPTqa0F7a"
      },
      "execution_count": null,
      "outputs": []
    },
    {
      "cell_type": "code",
      "source": [
        "a = [1, 2, 3, 4]\n",
        "b = [gap for gap in a if gap>=2]\n",
        "b"
      ],
      "metadata": {
        "id": "LxUfyK6j33rM",
        "outputId": "a2143b62-38b5-463b-817d-d813534ae2f1",
        "colab": {
          "base_uri": "https://localhost:8080/"
        }
      },
      "execution_count": null,
      "outputs": [
        {
          "output_type": "execute_result",
          "data": {
            "text/plain": [
              "[2, 3, 4]"
            ]
          },
          "metadata": {},
          "execution_count": 33
        }
      ]
    },
    {
      "cell_type": "code",
      "source": [
        "a = ['red', 'green', 'blue', 'purple']\n",
        "b = [i for i in a if len(i) >=5]\n",
        "b"
      ],
      "metadata": {
        "id": "-UTQ0oad33jz",
        "outputId": "7d872766-9bd7-4707-afb4-4856e94dc031",
        "colab": {
          "base_uri": "https://localhost:8080/"
        }
      },
      "execution_count": null,
      "outputs": [
        {
          "output_type": "execute_result",
          "data": {
            "text/plain": [
              "['green', 'purple']"
            ]
          },
          "metadata": {},
          "execution_count": 36
        }
      ]
    },
    {
      "cell_type": "code",
      "source": [
        "a = ['red', 'green', 'blue', 'purple']\n",
        "b = ['빨강', '초록', '파랑', '보라']\n",
        "c = {a[i]:b[i] for i in range(4)}\n",
        "c"
      ],
      "metadata": {
        "id": "wgTAZLaJ33X3",
        "outputId": "4e680c92-08c7-4a86-98f5-80561e075a2f",
        "colab": {
          "base_uri": "https://localhost:8080/"
        }
      },
      "execution_count": null,
      "outputs": [
        {
          "output_type": "execute_result",
          "data": {
            "text/plain": [
              "{'blue': '파랑', 'green': '초록', 'purple': '보라', 'red': '빨강'}"
            ]
          },
          "metadata": {},
          "execution_count": 37
        }
      ]
    },
    {
      "cell_type": "code",
      "source": [
        "import numpy as np\n",
        "\n",
        "import numpy"
      ],
      "metadata": {
        "id": "fyOZrWnREfdL"
      },
      "execution_count": null,
      "outputs": []
    },
    {
      "cell_type": "code",
      "source": [
        "x = np.array([1,2,'350'])\n",
        "print(x)\n",
        "print(type(x))\n",
        "print(x.shape)"
      ],
      "metadata": {
        "id": "xrQ1p_QDMjVV"
      },
      "execution_count": null,
      "outputs": []
    },
    {
      "cell_type": "code",
      "source": [
        "x = np.array([[[1,2,4], [4,5,5]],[[4,4],[2,3]]])\n",
        "print(x)\n",
        "print(type(x))\n",
        "print(x.shape)"
      ],
      "metadata": {
        "id": "XswcjK9j4YKF",
        "colab": {
          "base_uri": "https://localhost:8080/"
        },
        "outputId": "5a6b9e35-f0bb-4e55-970a-fc90fa2c7944"
      },
      "execution_count": null,
      "outputs": [
        {
          "output_type": "stream",
          "name": "stdout",
          "text": [
            "[[list([1, 2, 4]) list([4, 5, 5])]\n",
            " [list([4, 4]) list([2, 3])]]\n",
            "<class 'numpy.ndarray'>\n",
            "(2, 2)\n"
          ]
        },
        {
          "output_type": "stream",
          "name": "stderr",
          "text": [
            "/usr/local/lib/python3.7/dist-packages/ipykernel_launcher.py:1: VisibleDeprecationWarning: Creating an ndarray from ragged nested sequences (which is a list-or-tuple of lists-or-tuples-or ndarrays with different lengths or shapes) is deprecated. If you meant to do this, you must specify 'dtype=object' when creating the ndarray.\n",
            "  \"\"\"Entry point for launching an IPython kernel.\n"
          ]
        }
      ]
    },
    {
      "cell_type": "code",
      "source": [
        "x = np.array([[[1,2,3], [4,5,6],[4,9,70]], [[7,8,9], [10,11,12],[5,9,10]]])\n",
        "print(x)\n",
        "print(type(x))\n",
        "print(x.shape)"
      ],
      "metadata": {
        "id": "PR_PRoPi4al8"
      },
      "execution_count": null,
      "outputs": []
    },
    {
      "cell_type": "code",
      "source": [
        "x = np.arange(3)\n",
        "print(x)\n",
        "print(type(x))\n",
        "print(x.shape)\n",
        "\n",
        "x = np.arange(3,6)\n",
        "print(x)\n",
        "print(type(x))\n",
        "print(x.shape)\n",
        "\n",
        "x = np.arange(3,8,1.3)\n",
        "print(x)\n",
        "print(type(x))\n",
        "print(x.shape)\n"
      ],
      "metadata": {
        "id": "8FN__2Bj5rFo"
      },
      "execution_count": null,
      "outputs": []
    },
    {
      "cell_type": "code",
      "source": [
        "x = np.linspace(3,9.7,3)\n",
        "print(x)\n",
        "print(type(x))\n",
        "print(x.shape)"
      ],
      "metadata": {
        "id": "rzdLqbeq5q-Q"
      },
      "execution_count": null,
      "outputs": []
    },
    {
      "cell_type": "code",
      "source": [
        "x = np.ones([2, 3])\n",
        "print(x)\n",
        "print(type(x))\n",
        "print(x.shape)"
      ],
      "metadata": {
        "id": "_ORYh26K6Dh0"
      },
      "execution_count": null,
      "outputs": []
    },
    {
      "cell_type": "code",
      "source": [
        "import numpy.random as nr\n",
        "x=nr.randn(9)"
      ],
      "metadata": {
        "id": "aeHcpYm060DD"
      },
      "execution_count": null,
      "outputs": []
    },
    {
      "cell_type": "code",
      "source": [
        "from matplotlib.pyplot import hist\n",
        "hist(x)"
      ],
      "metadata": {
        "id": "D9edq23H7tmG"
      },
      "execution_count": null,
      "outputs": []
    },
    {
      "cell_type": "code",
      "source": [
        "np.random.normal(0, 3, [3,4,9])"
      ],
      "metadata": {
        "id": "vCYBuYCR75Id"
      },
      "execution_count": null,
      "outputs": []
    },
    {
      "cell_type": "code",
      "source": [
        "import matplotlib.pyplot as plt"
      ],
      "metadata": {
        "id": "N0P_p9hN74_w"
      },
      "execution_count": null,
      "outputs": []
    },
    {
      "cell_type": "code",
      "source": [
        "x = np.random.normal(0, 1, [5,9])\n",
        "print(x)\n",
        "plt.hist(x, bins=4)"
      ],
      "metadata": {
        "id": "iDHGQfjD79RA"
      },
      "execution_count": null,
      "outputs": []
    },
    {
      "cell_type": "code",
      "source": [
        "plt.figure()\n",
        "\n",
        "theta1 = np.linspace(0, 3*np.pi, 100)\n",
        "s1 = np.sin(theta1)\n",
        "theta2 = np.linspace(0, 2*np.pi, 100)\n",
        "s2 = np.sin(theta2)\n",
        "\n",
        "plt.subplot(2, 2, 2) \n",
        "plt.plot(theta1, s1, '.')\n",
        "plt.subplot(2, 2, 3) \n",
        "plt.plot(theta2, s2, '.')"
      ],
      "metadata": {
        "id": "Q2AR2A0YAl9U",
        "colab": {
          "base_uri": "https://localhost:8080/",
          "height": 284
        },
        "outputId": "0cdd2577-96ea-4b85-8629-cc1683ecc132"
      },
      "execution_count": null,
      "outputs": [
        {
          "output_type": "execute_result",
          "data": {
            "text/plain": [
              "[<matplotlib.lines.Line2D at 0x7fcd2231c410>]"
            ]
          },
          "metadata": {},
          "execution_count": 32
        },
        {
          "output_type": "display_data",
          "data": {
            "text/plain": [
              "<Figure size 432x288 with 2 Axes>"
            ],
            "image/png": "[encoded data removed]"
          },
          "metadata": {
            "needs_background": "light"
          }
        }
      ]
    },
    {
      "cell_type": "code",
      "source": [
        "np.corrcoef(theta1,theta2)"
      ],
      "metadata": {
        "id": "kLE-B49LAlx4",
        "colab": {
          "base_uri": "https://localhost:8080/"
        },
        "outputId": "6f35d0e5-8c73-4c0f-9308-c0124d4bfff5"
      },
      "execution_count": null,
      "outputs": [
        {
          "output_type": "execute_result",
          "data": {
            "text/plain": [
              "array([[1., 1.],\n",
              "       [1., 1.]])"
            ]
          },
          "metadata": {},
          "execution_count": 34
        }
      ]
    }
  ]
}